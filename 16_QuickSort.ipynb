{
 "metadata": {
  "language_info": {
   "codemirror_mode": {
    "name": "ipython",
    "version": 3
   },
   "file_extension": ".py",
   "mimetype": "text/x-python",
   "name": "python",
   "nbconvert_exporter": "python",
   "pygments_lexer": "ipython3",
   "version": "3.8.6-candidate"
  },
  "orig_nbformat": 2,
  "kernelspec": {
   "name": "python3",
   "display_name": "Python 3.8.6 64-bit",
   "metadata": {
    "interpreter": {
     "hash": "cff958d1a65f46eee143b209fe34810fe035b8f738dadcdd2c05924e71fa3bca"
    }
   }
  }
 },
 "nbformat": 4,
 "nbformat_minor": 2,
 "cells": [
  {
   "cell_type": "code",
   "execution_count": 25,
   "metadata": {},
   "outputs": [
    {
     "output_type": "stream",
     "name": "stdout",
     "text": [
      "[229, 264, 269, 281, 366, 448, 668, 676, 691, 820]\n"
     ]
    }
   ],
   "source": [
    "# Quick Sort\n",
    "# use pivot to separate the list into two parts\n",
    "from typing import List\n",
    "\n",
    "# return the index number of the pivot that has been sorted\n",
    "def partition(numbers: List[int], low: int, high: int) -> int:\n",
    "    i = low - 1\n",
    "    pivot = numbers[high]\n",
    "    for j in range(low, high):\n",
    "        if numbers[j] <= pivot:\n",
    "            i += 1\n",
    "            numbers[i], numbers[j] = numbers[j], numbers[i]\n",
    "    numbers[i+1], numbers[high] = numbers[high], numbers[i+1]\n",
    "    return i+1\n",
    "\n",
    "def quick_sort(numbers:List[int]) ->  List[int]:\n",
    "    def _quick_sort(numbers: List[int], low: int, high: int) -> None:\n",
    "        if low < high:\n",
    "            partition_index = partition(numbers, low, high)\n",
    "            _quick_sort(numbers, low, partition_index-1)\n",
    "            _quick_sort(numbers, partition_index+1, high)\n",
    "    \n",
    "    _quick_sort(numbers, 0, len(numbers)-1)\n",
    "    return numbers\n",
    "\n",
    "if __name__ == '__main__':\n",
    "    import random\n",
    "    # nums = [2, 5, 1, 8, 7, 3]\n",
    "    nums = [random.randint(0, 1000) for _ in range(10)]\n",
    "    print(quick_sort(nums))"
   ]
  }
 ]
}