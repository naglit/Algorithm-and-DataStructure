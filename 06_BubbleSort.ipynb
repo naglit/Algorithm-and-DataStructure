{
 "metadata": {
  "language_info": {
   "codemirror_mode": {
    "name": "ipython",
    "version": 3
   },
   "file_extension": ".py",
   "mimetype": "text/x-python",
   "name": "python",
   "nbconvert_exporter": "python",
   "pygments_lexer": "ipython3",
   "version": "3.7.4-final"
  },
  "orig_nbformat": 2,
  "kernelspec": {
   "name": "python3",
   "display_name": "Python 3",
   "language": "python"
  }
 },
 "nbformat": 4,
 "nbformat_minor": 2,
 "cells": [
  {
   "cell_type": "code",
   "execution_count": 1,
   "metadata": {},
   "outputs": [],
   "source": [
    "from typing import List"
   ]
  },
  {
   "cell_type": "code",
   "execution_count": 7,
   "metadata": {},
   "outputs": [
    {
     "output_type": "stream",
     "name": "stdout",
     "text": [
      "[1, 2, 3, 5, 7, 8]\n"
     ]
    }
   ],
   "source": [
    "def bubble_sort(numbers: List[int]) -> List[int]:\n",
    "    len_numbers = len(numbers)\n",
    "    for i in range(len_numbers):\n",
    "        for j in range(len_numbers-1-i):\n",
    "            if numbers[j] > numbers[j+1]:\n",
    "                temp = numbers[j]\n",
    "                numbers[j] = numbers[j+1]\n",
    "                numbers[j+1] = temp\n",
    "    return numbers\n",
    "\n",
    "if __name__ == '__main__':\n",
    "    nums = [2, 5, 1, 8, 7, 3]\n",
    "    ans = bubble_sort(nums)\n",
    "    print(ans)"
   ]
  },
  {
   "cell_type": "code",
   "execution_count": 8,
   "metadata": {},
   "outputs": [
    {
     "output_type": "stream",
     "name": "stdout",
     "text": [
      "[1, 2, 3, 5, 7, 8]\n"
     ]
    }
   ],
   "source": [
    "def bubble_sort(numbers: List[int]) -> List[int]:\n",
    "    len_numbers = len(numbers)\n",
    "    for i in range(len_numbers):\n",
    "        for j in range(len_numbers-1-i):\n",
    "            if numbers[j] > numbers[j+1]:\n",
    "                numbers[j], numbers[j+1] = numbers[j+1], numbers[j]\n",
    "                \n",
    "    return numbers\n",
    "\n",
    "if __name__ == '__main__':\n",
    "    nums = [2, 5, 1, 8, 7, 3]\n",
    "    ans = bubble_sort(nums)\n",
    "    print(ans)"
   ]
  },
  {
   "cell_type": "code",
   "execution_count": null,
   "metadata": {},
   "outputs": [],
   "source": []
  }
 ]
}