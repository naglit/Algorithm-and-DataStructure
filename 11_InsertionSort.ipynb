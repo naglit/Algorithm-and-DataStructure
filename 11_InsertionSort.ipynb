{
 "metadata": {
  "language_info": {
   "codemirror_mode": {
    "name": "ipython",
    "version": 3
   },
   "file_extension": ".py",
   "mimetype": "text/x-python",
   "name": "python",
   "nbconvert_exporter": "python",
   "pygments_lexer": "ipython3",
   "version": "3.7.4-final"
  },
  "orig_nbformat": 2,
  "kernelspec": {
   "name": "python3",
   "display_name": "Python 3",
   "language": "python"
  }
 },
 "nbformat": 4,
 "nbformat_minor": 2,
 "cells": [
  {
   "cell_type": "code",
   "execution_count": 7,
   "metadata": {},
   "outputs": [
    {
     "output_type": "stream",
     "name": "stdout",
     "text": [
      "[27, 78, 91, 183, 430, 470, 518, 543, 636, 669]\n"
     ]
    }
   ],
   "source": [
    "# Insertion Sort\n",
    "# find the number that is needed to be moved and insert it into the right place\n",
    "from typing import List\n",
    "\n",
    "def insertion_sort(numbers:List[int]) ->  List[int]:\n",
    "    len_numbers = len(numbers)\n",
    "    \n",
    "    for i in range(1, len_numbers):\n",
    "        temp = numbers[i]\n",
    "        j = i - 1\n",
    "        while j >= 0 and temp < numbers[j]:\n",
    "            numbers[j+1] = numbers[j]\n",
    "            j -= 1\n",
    "        numbers[j+1] = temp \n",
    "        \n",
    "    return numbers\n",
    "\n",
    "if __name__ == '__main__':\n",
    "    import random\n",
    "    # nums = [2, 5, 1, 8, 7, 3]\n",
    "    nums = [random.randint(0, 1000) for _ in range(10)]\n",
    "    ans = insertion_sort(nums)\n",
    "    print(ans)"
   ]
  }
 ]
}